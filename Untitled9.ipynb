{
  "nbformat": 4,
  "nbformat_minor": 0,
  "metadata": {
    "accelerator": "GPU",
    "colab": {
      "name": "Untitled9.ipynb",
      "provenance": [],
      "collapsed_sections": [],
      "mount_file_id": "1TUd7elYBTf_QQcWJ2c029NOFstaZ4ClU",
      "authorship_tag": "ABX9TyPs0M0U08FqCjAwHJIWGgEM",
      "include_colab_link": true
    },
    "kernelspec": {
      "display_name": "Python 3",
      "name": "python3"
    },
    "language_info": {
      "name": "python"
    }
  },
  "cells": [
    {
      "cell_type": "markdown",
      "metadata": {
        "id": "view-in-github",
        "colab_type": "text"
      },
      "source": [
        "<a href=\"https://colab.research.google.com/github/ayush777-hub/Virtual-Try-On-Flask/blob/master/Untitled9.ipynb\" target=\"_parent\"><img src=\"https://colab.research.google.com/assets/colab-badge.svg\" alt=\"Open In Colab\"/></a>"
      ]
    },
    {
      "cell_type": "code",
      "metadata": {
        "colab": {
          "base_uri": "https://localhost:8080/",
          "height": 1000
        },
        "id": "z2uuwGiGagmV",
        "outputId": "98eeb186-bbb1-41cc-f5c3-bc4c80ccb09c"
      },
      "source": [
        "!pip install torchvision==0.2.0\n",
        "!pip uninstall numpy\n",
        "!pip install numpy==1.16.4\n",
        "!pip install flask_ngrok\n",
        "!pip install tensorflow==1.13.1"
      ],
      "execution_count": null,
      "outputs": [
        {
          "name": "stdout",
          "output_type": "stream",
          "text": [
            "Collecting torchvision==0.2.0\n",
            "  Downloading torchvision-0.2.0-py2.py3-none-any.whl (48 kB)\n",
            "\u001b[?25l\r\u001b[K     |██████▊                         | 10 kB 25.7 MB/s eta 0:00:01\r\u001b[K     |█████████████▍                  | 20 kB 29.4 MB/s eta 0:00:01\r\u001b[K     |████████████████████▏           | 30 kB 12.4 MB/s eta 0:00:01\r\u001b[K     |██████████████████████████▉     | 40 kB 9.5 MB/s eta 0:00:01\r\u001b[K     |████████████████████████████████| 48 kB 2.5 MB/s \n",
            "\u001b[?25hRequirement already satisfied: pillow>=4.1.1 in /usr/local/lib/python3.7/dist-packages (from torchvision==0.2.0) (7.1.2)\n",
            "Requirement already satisfied: six in /usr/local/lib/python3.7/dist-packages (from torchvision==0.2.0) (1.15.0)\n",
            "Requirement already satisfied: numpy in /usr/local/lib/python3.7/dist-packages (from torchvision==0.2.0) (1.19.5)\n",
            "Requirement already satisfied: torch in /usr/local/lib/python3.7/dist-packages (from torchvision==0.2.0) (1.9.0+cu111)\n",
            "Requirement already satisfied: typing-extensions in /usr/local/lib/python3.7/dist-packages (from torch->torchvision==0.2.0) (3.7.4.3)\n",
            "Installing collected packages: torchvision\n",
            "  Attempting uninstall: torchvision\n",
            "    Found existing installation: torchvision 0.10.0+cu111\n",
            "    Uninstalling torchvision-0.10.0+cu111:\n",
            "      Successfully uninstalled torchvision-0.10.0+cu111\n",
            "Successfully installed torchvision-0.2.0\n",
            "Found existing installation: numpy 1.19.5\n",
            "Uninstalling numpy-1.19.5:\n",
            "  Would remove:\n",
            "    /usr/bin/f2py\n",
            "    /usr/local/bin/f2py\n",
            "    /usr/local/bin/f2py3\n",
            "    /usr/local/bin/f2py3.7\n",
            "    /usr/local/lib/python3.7/dist-packages/numpy-1.19.5.dist-info/*\n",
            "    /usr/local/lib/python3.7/dist-packages/numpy.libs/libgfortran-2e0d59d6.so.5.0.0\n",
            "    /usr/local/lib/python3.7/dist-packages/numpy.libs/libopenblasp-r0-09e95953.3.13.so\n",
            "    /usr/local/lib/python3.7/dist-packages/numpy.libs/libquadmath-2d0c479f.so.0.0.0\n",
            "    /usr/local/lib/python3.7/dist-packages/numpy.libs/libz-eb09ad1d.so.1.2.3\n",
            "    /usr/local/lib/python3.7/dist-packages/numpy/*\n",
            "Proceed (y/n)? y\n",
            "  Successfully uninstalled numpy-1.19.5\n",
            "Collecting numpy==1.16.4\n",
            "  Downloading numpy-1.16.4-cp37-cp37m-manylinux1_x86_64.whl (17.3 MB)\n",
            "\u001b[K     |████████████████████████████████| 17.3 MB 128 kB/s \n",
            "\u001b[?25hInstalling collected packages: numpy\n",
            "\u001b[31mERROR: pip's dependency resolver does not currently take into account all the packages that are installed. This behaviour is the source of the following dependency conflicts.\n",
            "xarray 0.18.2 requires numpy>=1.17, but you have numpy 1.16.4 which is incompatible.\n",
            "tensorflow 2.6.0 requires numpy~=1.19.2, but you have numpy 1.16.4 which is incompatible.\n",
            "pyerfa 2.0.0 requires numpy>=1.17, but you have numpy 1.16.4 which is incompatible.\n",
            "pyarrow 3.0.0 requires numpy>=1.16.6, but you have numpy 1.16.4 which is incompatible.\n",
            "kapre 0.3.5 requires numpy>=1.18.5, but you have numpy 1.16.4 which is incompatible.\n",
            "jaxlib 0.1.71+cuda111 requires numpy>=1.18, but you have numpy 1.16.4 which is incompatible.\n",
            "jax 0.2.21 requires numpy>=1.18, but you have numpy 1.16.4 which is incompatible.\n",
            "datascience 0.10.6 requires folium==0.2.1, but you have folium 0.8.3 which is incompatible.\n",
            "astropy 4.3.1 requires numpy>=1.17, but you have numpy 1.16.4 which is incompatible.\n",
            "albumentations 0.1.12 requires imgaug<0.2.7,>=0.2.5, but you have imgaug 0.2.9 which is incompatible.\u001b[0m\n",
            "Successfully installed numpy-1.16.4\n"
          ]
        },
        {
          "data": {
            "application/vnd.colab-display-data+json": {
              "pip_warning": {
                "packages": [
                  "numpy"
                ]
              }
            }
          },
          "metadata": {},
          "output_type": "display_data"
        },
        {
          "name": "stdout",
          "output_type": "stream",
          "text": [
            "Collecting flask_ngrok\n",
            "  Downloading flask_ngrok-0.0.25-py3-none-any.whl (3.1 kB)\n",
            "Requirement already satisfied: requests in /usr/local/lib/python3.7/dist-packages (from flask_ngrok) (2.23.0)\n",
            "Requirement already satisfied: Flask>=0.8 in /usr/local/lib/python3.7/dist-packages (from flask_ngrok) (1.1.4)\n",
            "Requirement already satisfied: Werkzeug<2.0,>=0.15 in /usr/local/lib/python3.7/dist-packages (from Flask>=0.8->flask_ngrok) (1.0.1)\n",
            "Requirement already satisfied: itsdangerous<2.0,>=0.24 in /usr/local/lib/python3.7/dist-packages (from Flask>=0.8->flask_ngrok) (1.1.0)\n",
            "Requirement already satisfied: click<8.0,>=5.1 in /usr/local/lib/python3.7/dist-packages (from Flask>=0.8->flask_ngrok) (7.1.2)\n",
            "Requirement already satisfied: Jinja2<3.0,>=2.10.1 in /usr/local/lib/python3.7/dist-packages (from Flask>=0.8->flask_ngrok) (2.11.3)\n",
            "Requirement already satisfied: MarkupSafe>=0.23 in /usr/local/lib/python3.7/dist-packages (from Jinja2<3.0,>=2.10.1->Flask>=0.8->flask_ngrok) (2.0.1)\n",
            "Requirement already satisfied: idna<3,>=2.5 in /usr/local/lib/python3.7/dist-packages (from requests->flask_ngrok) (2.10)\n",
            "Requirement already satisfied: chardet<4,>=3.0.2 in /usr/local/lib/python3.7/dist-packages (from requests->flask_ngrok) (3.0.4)\n",
            "Requirement already satisfied: certifi>=2017.4.17 in /usr/local/lib/python3.7/dist-packages (from requests->flask_ngrok) (2021.5.30)\n",
            "Requirement already satisfied: urllib3!=1.25.0,!=1.25.1,<1.26,>=1.21.1 in /usr/local/lib/python3.7/dist-packages (from requests->flask_ngrok) (1.24.3)\n",
            "Installing collected packages: flask-ngrok\n",
            "Successfully installed flask-ngrok-0.0.25\n",
            "Collecting tensorflow==1.13.1\n",
            "  Downloading tensorflow-1.13.1-cp37-cp37m-manylinux1_x86_64.whl (92.6 MB)\n",
            "\u001b[K     |████████████████████████████████| 92.6 MB 22 kB/s \n",
            "\u001b[?25hCollecting keras-applications>=1.0.6\n",
            "  Downloading Keras_Applications-1.0.8-py3-none-any.whl (50 kB)\n",
            "\u001b[K     |████████████████████████████████| 50 kB 6.7 MB/s \n",
            "\u001b[?25hRequirement already satisfied: numpy>=1.13.3 in /usr/local/lib/python3.7/dist-packages (from tensorflow==1.13.1) (1.16.4)\n",
            "Requirement already satisfied: protobuf>=3.6.1 in /usr/local/lib/python3.7/dist-packages (from tensorflow==1.13.1) (3.17.3)\n",
            "Requirement already satisfied: wheel>=0.26 in /usr/local/lib/python3.7/dist-packages (from tensorflow==1.13.1) (0.37.0)\n",
            "Collecting tensorflow-estimator<1.14.0rc0,>=1.13.0\n",
            "  Downloading tensorflow_estimator-1.13.0-py2.py3-none-any.whl (367 kB)\n",
            "\u001b[K     |████████████████████████████████| 367 kB 31.7 MB/s \n",
            "\u001b[?25hRequirement already satisfied: gast>=0.2.0 in /usr/local/lib/python3.7/dist-packages (from tensorflow==1.13.1) (0.4.0)\n",
            "Requirement already satisfied: keras-preprocessing>=1.0.5 in /usr/local/lib/python3.7/dist-packages (from tensorflow==1.13.1) (1.1.2)\n",
            "Requirement already satisfied: grpcio>=1.8.6 in /usr/local/lib/python3.7/dist-packages (from tensorflow==1.13.1) (1.41.0)\n",
            "Requirement already satisfied: six>=1.10.0 in /usr/local/lib/python3.7/dist-packages (from tensorflow==1.13.1) (1.15.0)\n",
            "Collecting tensorboard<1.14.0,>=1.13.0\n",
            "  Downloading tensorboard-1.13.1-py3-none-any.whl (3.2 MB)\n",
            "\u001b[K     |████████████████████████████████| 3.2 MB 25.4 MB/s \n",
            "\u001b[?25hRequirement already satisfied: termcolor>=1.1.0 in /usr/local/lib/python3.7/dist-packages (from tensorflow==1.13.1) (1.1.0)\n",
            "Requirement already satisfied: absl-py>=0.1.6 in /usr/local/lib/python3.7/dist-packages (from tensorflow==1.13.1) (0.12.0)\n",
            "Requirement already satisfied: astor>=0.6.0 in /usr/local/lib/python3.7/dist-packages (from tensorflow==1.13.1) (0.8.1)\n",
            "Requirement already satisfied: h5py in /usr/local/lib/python3.7/dist-packages (from keras-applications>=1.0.6->tensorflow==1.13.1) (3.1.0)\n",
            "Requirement already satisfied: markdown>=2.6.8 in /usr/local/lib/python3.7/dist-packages (from tensorboard<1.14.0,>=1.13.0->tensorflow==1.13.1) (3.3.4)\n",
            "Requirement already satisfied: werkzeug>=0.11.15 in /usr/local/lib/python3.7/dist-packages (from tensorboard<1.14.0,>=1.13.0->tensorflow==1.13.1) (1.0.1)\n",
            "Requirement already satisfied: importlib-metadata in /usr/local/lib/python3.7/dist-packages (from markdown>=2.6.8->tensorboard<1.14.0,>=1.13.0->tensorflow==1.13.1) (4.8.1)\n",
            "Collecting mock>=2.0.0\n",
            "  Downloading mock-4.0.3-py3-none-any.whl (28 kB)\n",
            "Requirement already satisfied: cached-property in /usr/local/lib/python3.7/dist-packages (from h5py->keras-applications>=1.0.6->tensorflow==1.13.1) (1.5.2)\n",
            "Requirement already satisfied: zipp>=0.5 in /usr/local/lib/python3.7/dist-packages (from importlib-metadata->markdown>=2.6.8->tensorboard<1.14.0,>=1.13.0->tensorflow==1.13.1) (3.6.0)\n",
            "Requirement already satisfied: typing-extensions>=3.6.4 in /usr/local/lib/python3.7/dist-packages (from importlib-metadata->markdown>=2.6.8->tensorboard<1.14.0,>=1.13.0->tensorflow==1.13.1) (3.7.4.3)\n",
            "Installing collected packages: mock, tensorflow-estimator, tensorboard, keras-applications, tensorflow\n",
            "  Attempting uninstall: tensorflow-estimator\n",
            "    Found existing installation: tensorflow-estimator 2.6.0\n",
            "    Uninstalling tensorflow-estimator-2.6.0:\n",
            "      Successfully uninstalled tensorflow-estimator-2.6.0\n",
            "  Attempting uninstall: tensorboard\n",
            "    Found existing installation: tensorboard 2.6.0\n",
            "    Uninstalling tensorboard-2.6.0:\n",
            "      Successfully uninstalled tensorboard-2.6.0\n",
            "  Attempting uninstall: tensorflow\n",
            "    Found existing installation: tensorflow 2.6.0\n",
            "    Uninstalling tensorflow-2.6.0:\n",
            "      Successfully uninstalled tensorflow-2.6.0\n",
            "y\n",
            "\u001b[31mERROR: pip's dependency resolver does not currently take into account all the packages that are installed. This behaviour is the source of the following dependency conflicts.\n",
            "kapre 0.3.5 requires numpy>=1.18.5, but you have numpy 1.16.4 which is incompatible.\n",
            "kapre 0.3.5 requires tensorflow>=2.0.0, but you have tensorflow 1.13.1 which is incompatible.\u001b[0m\n",
            "Successfully installed keras-applications-1.0.8 mock-4.0.3 tensorboard-1.13.1 tensorflow-1.13.1 tensorflow-estimator-1.13.0\n"
          ]
        }
      ]
    },
    {
      "cell_type": "code",
      "metadata": {
        "colab": {
          "base_uri": "https://localhost:8080/"
        },
        "id": "QdeW0pqNTJXy",
        "outputId": "5499a059-6433-4769-e1fc-67e1a44ba895"
      },
      "source": [
        "!git clone https://github.com/ayush777-hub/Virtual-Try-On-Flask.git"
      ],
      "execution_count": null,
      "outputs": [
        {
          "name": "stdout",
          "output_type": "stream",
          "text": [
            "Cloning into 'Virtual-Try-On-Flask'...\n",
            "remote: Enumerating objects: 50, done.\u001b[K\n",
            "remote: Counting objects: 100% (50/50), done.\u001b[K\n",
            "remote: Compressing objects: 100% (33/33), done.\u001b[K\n",
            "remote: Total 50 (delta 18), reused 43 (delta 12), pack-reused 0\u001b[K\n",
            "Unpacking objects: 100% (50/50), done.\n"
          ]
        }
      ]
    },
    {
      "cell_type": "code",
      "metadata": {
        "colab": {
          "base_uri": "https://localhost:8080/"
        },
        "id": "JiCLiUy4TLuD",
        "outputId": "933d746d-0229-42e1-e7b4-f485ec19e7cc"
      },
      "source": [
        "!unzip /content/Virtual-Try-On-Flask/checkpoints/checkpoints.zip"
      ],
      "execution_count": null,
      "outputs": [
        {
          "name": "stdout",
          "output_type": "stream",
          "text": [
            "Archive:  /content/Virtual-Try-On-Flask/checkpoints/checkpoints.zip\n",
            "   creating: checkpoints/\n",
            " extracting: checkpoints/placeholder.empty  \n",
            "  inflating: checkpoints/tom.pth     \n",
            "  inflating: checkpoints/gmm.pth     \n",
            "  inflating: checkpoints/jpp.pb      \n"
          ]
        }
      ]
    },
    {
      "cell_type": "code",
      "metadata": {
        "colab": {
          "background_save": true,
          "base_uri": "https://localhost:8080/"
        },
        "id": "6yRT8E2fWke8",
        "outputId": "3b85867d-ff34-4207-8b34-885fbab17c97"
      },
      "source": [
        "!python /content/Virtual-Try-On-Flask/main.py"
      ],
      "execution_count": null,
      "outputs": [
        {
          "name": "stdout",
          "output_type": "stream",
          "text": [
            "2021-11-07 12:02:58.589856: I tensorflow/core/platform/cpu_feature_guard.cc:141] Your CPU supports instructions that this TensorFlow binary was not compiled to use: AVX2 FMA\n",
            "2021-11-07 12:02:58.593685: I tensorflow/core/platform/profile_utils/cpu_utils.cc:94] CPU Frequency: 2199995000 Hz\n",
            "2021-11-07 12:02:58.593974: I tensorflow/compiler/xla/service/service.cc:150] XLA service 0x55a22c24ec60 executing computations on platform Host. Devices:\n",
            "2021-11-07 12:02:58.594015: I tensorflow/compiler/xla/service/service.cc:158]   StreamExecutor device (0): <undefined>, <undefined>\n",
            "initialization method [normal]\n",
            "initialization method [normal]\n",
            "use_cuda = False\n",
            " * Serving Flask app \"main\" (lazy loading)\n",
            " * Environment: production\n",
            "\u001b[31m   WARNING: This is a development server. Do not use it in a production deployment.\u001b[0m\n",
            "\u001b[2m   Use a production WSGI server instead.\u001b[0m\n",
            " * Debug mode: off\n",
            " * Running on http://127.0.0.1:5000/ (Press CTRL+C to quit)\n",
            " * Running on http://0bac-34-74-203-99.ngrok.io\n",
            " * Traffic stats available on http://127.0.0.1:4040\n",
            "127.0.0.1 - - [07/Nov/2021 12:03:26] \"\u001b[37mGET / HTTP/1.1\u001b[0m\" 200 -\n",
            "127.0.0.1 - - [07/Nov/2021 12:03:26] \"\u001b[37mGET /static/jquery.min.js HTTP/1.1\u001b[0m\" 200 -\n",
            "127.0.0.1 - - [07/Nov/2021 12:03:26] \"\u001b[37mGET /static/bootstrap.min.css HTTP/1.1\u001b[0m\" 200 -\n",
            "127.0.0.1 - - [07/Nov/2021 12:03:26] \"\u001b[37mGET /static/popper.min.js HTTP/1.1\u001b[0m\" 200 -\n",
            "127.0.0.1 - - [07/Nov/2021 12:03:27] \"\u001b[37mGET /static/bootstrap.min.js HTTP/1.1\u001b[0m\" 200 -\n",
            "127.0.0.1 - - [07/Nov/2021 12:03:28] \"\u001b[37mGET /static/img/.gitignore HTTP/1.1\u001b[0m\" 200 -\n",
            "127.0.0.1 - - [07/Nov/2021 12:03:28] \"\u001b[33mGET /favicon.ico HTTP/1.1\u001b[0m\" 404 -\n",
            "ImmutableMultiDict([])\n",
            "ImmutableMultiDict([('person_image', <FileStorage: 'my_puc.jpg' ('image/jpeg')>), ('cloth_image', <FileStorage: 'test_shirt31.jpg' ('image/jpeg')>)])\n",
            "<FileStorage: 'my_puc.jpg' ('image/jpeg')> <FileStorage: 'test_shirt31.jpg' ('image/jpeg')>\n",
            "(256, 192, 3)\n",
            "image shape:(256, 192, 3)\n",
            "\n",
            "\n",
            "\n",
            "upper:6,bounder:155,left:18,right:129\n",
            "after crop shape:(149, 111, 3)\n",
            "/usr/local/lib/python3.7/dist-packages/torch/nn/functional.py:3982: UserWarning: Default grid_sample and affine_grid behavior has changed to align_corners=False since 1.3.0. Please specify align_corners=True if the old behavior is desired. See the documentation of grid_sample for details.\n",
            "  \"Default grid_sample and affine_grid behavior has changed \"\n",
            "/usr/local/lib/python3.7/dist-packages/torch/nn/functional.py:3613: UserWarning: Default upsampling behavior when mode=bilinear is changed to align_corners=False since 0.4.0. Please specify align_corners=True if the old behavior is desired. See the documentation of nn.Upsample for details.\n",
            "  \"See the documentation of nn.Upsample for details.\".format(mode)\n",
            "v:0.4087388627231121\n",
            "127.0.0.1 - - [07/Nov/2021 12:05:29] \"\u001b[37mPOST /upload HTTP/1.1\u001b[0m\" 200 -\n",
            "127.0.0.1 - - [07/Nov/2021 12:05:30] \"\u001b[37mGET /static/human/1636286620_.gitignore.jpeg HTTP/1.1\u001b[0m\" 200 -\n",
            "127.0.0.1 - - [07/Nov/2021 12:05:30] \"\u001b[37mGET /static/result/1636286620_.gitignore.jpeg HTTP/1.1\u001b[0m\" 200 -\n"
          ]
        }
      ]
    },
    {
      "cell_type": "code",
      "metadata": {
        "colab": {
          "base_uri": "https://localhost:8080/"
        },
        "id": "AAq1vxUFWthq",
        "outputId": "dda0d622-46f2-43b4-cf55-c363cb4c5f56"
      },
      "source": [
        ""
      ],
      "execution_count": null,
      "outputs": [
        {
          "name": "stdout",
          "output_type": "stream",
          "text": [
            "Collecting tensorflow==1.13.1\n",
            "  Downloading tensorflow-1.13.1-cp37-cp37m-manylinux1_x86_64.whl (92.6 MB)\n",
            "\u001b[K     |████████████████████████████████| 92.6 MB 56 kB/s \n",
            "\u001b[?25hRequirement already satisfied: grpcio>=1.8.6 in /usr/local/lib/python3.7/dist-packages (from tensorflow==1.13.1) (1.41.0)\n",
            "Collecting tensorboard<1.14.0,>=1.13.0\n",
            "  Downloading tensorboard-1.13.1-py3-none-any.whl (3.2 MB)\n",
            "\u001b[K     |████████████████████████████████| 3.2 MB 42.7 MB/s \n",
            "\u001b[?25hRequirement already satisfied: termcolor>=1.1.0 in /usr/local/lib/python3.7/dist-packages (from tensorflow==1.13.1) (1.1.0)\n",
            "Requirement already satisfied: numpy>=1.13.3 in /usr/local/lib/python3.7/dist-packages (from tensorflow==1.13.1) (1.16.4)\n",
            "Collecting tensorflow-estimator<1.14.0rc0,>=1.13.0\n",
            "  Downloading tensorflow_estimator-1.13.0-py2.py3-none-any.whl (367 kB)\n",
            "\u001b[K     |████████████████████████████████| 367 kB 57.8 MB/s \n",
            "\u001b[?25hRequirement already satisfied: wheel>=0.26 in /usr/local/lib/python3.7/dist-packages (from tensorflow==1.13.1) (0.37.0)\n",
            "Requirement already satisfied: gast>=0.2.0 in /usr/local/lib/python3.7/dist-packages (from tensorflow==1.13.1) (0.4.0)\n",
            "Requirement already satisfied: keras-preprocessing>=1.0.5 in /usr/local/lib/python3.7/dist-packages (from tensorflow==1.13.1) (1.1.2)\n",
            "Collecting keras-applications>=1.0.6\n",
            "  Downloading Keras_Applications-1.0.8-py3-none-any.whl (50 kB)\n",
            "\u001b[K     |████████████████████████████████| 50 kB 6.8 MB/s \n",
            "\u001b[?25hRequirement already satisfied: absl-py>=0.1.6 in /usr/local/lib/python3.7/dist-packages (from tensorflow==1.13.1) (0.12.0)\n",
            "Requirement already satisfied: protobuf>=3.6.1 in /usr/local/lib/python3.7/dist-packages (from tensorflow==1.13.1) (3.17.3)\n",
            "Requirement already satisfied: astor>=0.6.0 in /usr/local/lib/python3.7/dist-packages (from tensorflow==1.13.1) (0.8.1)\n",
            "Requirement already satisfied: six>=1.10.0 in /usr/local/lib/python3.7/dist-packages (from tensorflow==1.13.1) (1.15.0)\n",
            "Requirement already satisfied: h5py in /usr/local/lib/python3.7/dist-packages (from keras-applications>=1.0.6->tensorflow==1.13.1) (3.1.0)\n",
            "Requirement already satisfied: werkzeug>=0.11.15 in /usr/local/lib/python3.7/dist-packages (from tensorboard<1.14.0,>=1.13.0->tensorflow==1.13.1) (1.0.1)\n",
            "Requirement already satisfied: markdown>=2.6.8 in /usr/local/lib/python3.7/dist-packages (from tensorboard<1.14.0,>=1.13.0->tensorflow==1.13.1) (3.3.4)\n",
            "Requirement already satisfied: importlib-metadata in /usr/local/lib/python3.7/dist-packages (from markdown>=2.6.8->tensorboard<1.14.0,>=1.13.0->tensorflow==1.13.1) (4.8.1)\n",
            "Collecting mock>=2.0.0\n",
            "  Downloading mock-4.0.3-py3-none-any.whl (28 kB)\n",
            "Requirement already satisfied: cached-property in /usr/local/lib/python3.7/dist-packages (from h5py->keras-applications>=1.0.6->tensorflow==1.13.1) (1.5.2)\n",
            "Requirement already satisfied: zipp>=0.5 in /usr/local/lib/python3.7/dist-packages (from importlib-metadata->markdown>=2.6.8->tensorboard<1.14.0,>=1.13.0->tensorflow==1.13.1) (3.6.0)\n",
            "Requirement already satisfied: typing-extensions>=3.6.4 in /usr/local/lib/python3.7/dist-packages (from importlib-metadata->markdown>=2.6.8->tensorboard<1.14.0,>=1.13.0->tensorflow==1.13.1) (3.7.4.3)\n",
            "Installing collected packages: mock, tensorflow-estimator, tensorboard, keras-applications, tensorflow\n",
            "  Attempting uninstall: tensorflow-estimator\n",
            "    Found existing installation: tensorflow-estimator 2.6.0\n",
            "    Uninstalling tensorflow-estimator-2.6.0:\n",
            "      Successfully uninstalled tensorflow-estimator-2.6.0\n",
            "  Attempting uninstall: tensorboard\n",
            "    Found existing installation: tensorboard 2.6.0\n",
            "    Uninstalling tensorboard-2.6.0:\n",
            "      Successfully uninstalled tensorboard-2.6.0\n",
            "  Attempting uninstall: tensorflow\n",
            "    Found existing installation: tensorflow 2.6.0\n",
            "    Uninstalling tensorflow-2.6.0:\n",
            "      Successfully uninstalled tensorflow-2.6.0\n",
            "\u001b[31mERROR: pip's dependency resolver does not currently take into account all the packages that are installed. This behaviour is the source of the following dependency conflicts.\n",
            "kapre 0.3.5 requires numpy>=1.18.5, but you have numpy 1.16.4 which is incompatible.\n",
            "kapre 0.3.5 requires tensorflow>=2.0.0, but you have tensorflow 1.13.1 which is incompatible.\u001b[0m\n",
            "Successfully installed keras-applications-1.0.8 mock-4.0.3 tensorboard-1.13.1 tensorflow-1.13.1 tensorflow-estimator-1.13.0\n"
          ]
        }
      ]
    },
    {
      "cell_type": "code",
      "metadata": {
        "colab": {
          "base_uri": "https://localhost:8080/"
        },
        "id": "y9q76TX8aO7K",
        "outputId": "53150adb-660d-4bb6-e9bc-76e7047c2892"
      },
      "source": [
        "%cp -av \"/content/Virtual-Try-On-Flask\" \"/content/drive/MyDrive/Colab Notebooks/virtual_try_on_running\"\n"
      ],
      "execution_count": null,
      "outputs": [
        {
          "name": "stdout",
          "output_type": "stream",
          "text": [
            "'/content/Virtual-Try-On-Flask' -> '/content/drive/MyDrive/Colab Notebooks/virtual_try_on_running/Virtual-Try-On-Flask'\n",
            "'/content/Virtual-Try-On-Flask/.git' -> '/content/drive/MyDrive/Colab Notebooks/virtual_try_on_running/Virtual-Try-On-Flask/.git'\n",
            "'/content/Virtual-Try-On-Flask/.git/hooks' -> '/content/drive/MyDrive/Colab Notebooks/virtual_try_on_running/Virtual-Try-On-Flask/.git/hooks'\n",
            "'/content/Virtual-Try-On-Flask/.git/hooks/pre-push.sample' -> '/content/drive/MyDrive/Colab Notebooks/virtual_try_on_running/Virtual-Try-On-Flask/.git/hooks/pre-push.sample'\n",
            "'/content/Virtual-Try-On-Flask/.git/hooks/update.sample' -> '/content/drive/MyDrive/Colab Notebooks/virtual_try_on_running/Virtual-Try-On-Flask/.git/hooks/update.sample'\n",
            "'/content/Virtual-Try-On-Flask/.git/hooks/pre-receive.sample' -> '/content/drive/MyDrive/Colab Notebooks/virtual_try_on_running/Virtual-Try-On-Flask/.git/hooks/pre-receive.sample'\n",
            "'/content/Virtual-Try-On-Flask/.git/hooks/applypatch-msg.sample' -> '/content/drive/MyDrive/Colab Notebooks/virtual_try_on_running/Virtual-Try-On-Flask/.git/hooks/applypatch-msg.sample'\n",
            "'/content/Virtual-Try-On-Flask/.git/hooks/commit-msg.sample' -> '/content/drive/MyDrive/Colab Notebooks/virtual_try_on_running/Virtual-Try-On-Flask/.git/hooks/commit-msg.sample'\n",
            "'/content/Virtual-Try-On-Flask/.git/hooks/prepare-commit-msg.sample' -> '/content/drive/MyDrive/Colab Notebooks/virtual_try_on_running/Virtual-Try-On-Flask/.git/hooks/prepare-commit-msg.sample'\n",
            "'/content/Virtual-Try-On-Flask/.git/hooks/pre-applypatch.sample' -> '/content/drive/MyDrive/Colab Notebooks/virtual_try_on_running/Virtual-Try-On-Flask/.git/hooks/pre-applypatch.sample'\n",
            "'/content/Virtual-Try-On-Flask/.git/hooks/fsmonitor-watchman.sample' -> '/content/drive/MyDrive/Colab Notebooks/virtual_try_on_running/Virtual-Try-On-Flask/.git/hooks/fsmonitor-watchman.sample'\n",
            "'/content/Virtual-Try-On-Flask/.git/hooks/post-update.sample' -> '/content/drive/MyDrive/Colab Notebooks/virtual_try_on_running/Virtual-Try-On-Flask/.git/hooks/post-update.sample'\n",
            "'/content/Virtual-Try-On-Flask/.git/hooks/pre-commit.sample' -> '/content/drive/MyDrive/Colab Notebooks/virtual_try_on_running/Virtual-Try-On-Flask/.git/hooks/pre-commit.sample'\n",
            "'/content/Virtual-Try-On-Flask/.git/hooks/pre-rebase.sample' -> '/content/drive/MyDrive/Colab Notebooks/virtual_try_on_running/Virtual-Try-On-Flask/.git/hooks/pre-rebase.sample'\n",
            "'/content/Virtual-Try-On-Flask/.git/description' -> '/content/drive/MyDrive/Colab Notebooks/virtual_try_on_running/Virtual-Try-On-Flask/.git/description'\n",
            "'/content/Virtual-Try-On-Flask/.git/info' -> '/content/drive/MyDrive/Colab Notebooks/virtual_try_on_running/Virtual-Try-On-Flask/.git/info'\n",
            "'/content/Virtual-Try-On-Flask/.git/info/exclude' -> '/content/drive/MyDrive/Colab Notebooks/virtual_try_on_running/Virtual-Try-On-Flask/.git/info/exclude'\n",
            "'/content/Virtual-Try-On-Flask/.git/branches' -> '/content/drive/MyDrive/Colab Notebooks/virtual_try_on_running/Virtual-Try-On-Flask/.git/branches'\n",
            "'/content/Virtual-Try-On-Flask/.git/refs' -> '/content/drive/MyDrive/Colab Notebooks/virtual_try_on_running/Virtual-Try-On-Flask/.git/refs'\n",
            "'/content/Virtual-Try-On-Flask/.git/refs/heads' -> '/content/drive/MyDrive/Colab Notebooks/virtual_try_on_running/Virtual-Try-On-Flask/.git/refs/heads'\n",
            "'/content/Virtual-Try-On-Flask/.git/refs/heads/master' -> '/content/drive/MyDrive/Colab Notebooks/virtual_try_on_running/Virtual-Try-On-Flask/.git/refs/heads/master'\n",
            "'/content/Virtual-Try-On-Flask/.git/refs/tags' -> '/content/drive/MyDrive/Colab Notebooks/virtual_try_on_running/Virtual-Try-On-Flask/.git/refs/tags'\n",
            "'/content/Virtual-Try-On-Flask/.git/refs/remotes' -> '/content/drive/MyDrive/Colab Notebooks/virtual_try_on_running/Virtual-Try-On-Flask/.git/refs/remotes'\n",
            "'/content/Virtual-Try-On-Flask/.git/refs/remotes/origin' -> '/content/drive/MyDrive/Colab Notebooks/virtual_try_on_running/Virtual-Try-On-Flask/.git/refs/remotes/origin'\n",
            "'/content/Virtual-Try-On-Flask/.git/refs/remotes/origin/HEAD' -> '/content/drive/MyDrive/Colab Notebooks/virtual_try_on_running/Virtual-Try-On-Flask/.git/refs/remotes/origin/HEAD'\n",
            "'/content/Virtual-Try-On-Flask/.git/index' -> '/content/drive/MyDrive/Colab Notebooks/virtual_try_on_running/Virtual-Try-On-Flask/.git/index'\n",
            "'/content/Virtual-Try-On-Flask/.git/objects' -> '/content/drive/MyDrive/Colab Notebooks/virtual_try_on_running/Virtual-Try-On-Flask/.git/objects'\n",
            "'/content/Virtual-Try-On-Flask/.git/objects/pack' -> '/content/drive/MyDrive/Colab Notebooks/virtual_try_on_running/Virtual-Try-On-Flask/.git/objects/pack'\n",
            "'/content/Virtual-Try-On-Flask/.git/objects/info' -> '/content/drive/MyDrive/Colab Notebooks/virtual_try_on_running/Virtual-Try-On-Flask/.git/objects/info'\n",
            "'/content/Virtual-Try-On-Flask/.git/objects/a2' -> '/content/drive/MyDrive/Colab Notebooks/virtual_try_on_running/Virtual-Try-On-Flask/.git/objects/a2'\n",
            "'/content/Virtual-Try-On-Flask/.git/objects/a2/053677d805b05874974034022665002892a3da' -> '/content/drive/MyDrive/Colab Notebooks/virtual_try_on_running/Virtual-Try-On-Flask/.git/objects/a2/053677d805b05874974034022665002892a3da'\n",
            "'/content/Virtual-Try-On-Flask/.git/objects/a2/f718beb10cc24a785c4d0a904da3e6d7341b1e' -> '/content/drive/MyDrive/Colab Notebooks/virtual_try_on_running/Virtual-Try-On-Flask/.git/objects/a2/f718beb10cc24a785c4d0a904da3e6d7341b1e'\n",
            "'/content/Virtual-Try-On-Flask/.git/objects/d9' -> '/content/drive/MyDrive/Colab Notebooks/virtual_try_on_running/Virtual-Try-On-Flask/.git/objects/d9'\n",
            "'/content/Virtual-Try-On-Flask/.git/objects/d9/fef80961bb37425df8652bbcafa7d0a85fb4b8' -> '/content/drive/MyDrive/Colab Notebooks/virtual_try_on_running/Virtual-Try-On-Flask/.git/objects/d9/fef80961bb37425df8652bbcafa7d0a85fb4b8'\n",
            "'/content/Virtual-Try-On-Flask/.git/objects/d9/817e4acb6985171f1cceb4c4c31bce16d17dde' -> '/content/drive/MyDrive/Colab Notebooks/virtual_try_on_running/Virtual-Try-On-Flask/.git/objects/d9/817e4acb6985171f1cceb4c4c31bce16d17dde'\n",
            "'/content/Virtual-Try-On-Flask/.git/objects/e0' -> '/content/drive/MyDrive/Colab Notebooks/virtual_try_on_running/Virtual-Try-On-Flask/.git/objects/e0'\n",
            "'/content/Virtual-Try-On-Flask/.git/objects/e0/e3d249a84f6dadccbd44c3a0bb8740b5b0c4bd' -> '/content/drive/MyDrive/Colab Notebooks/virtual_try_on_running/Virtual-Try-On-Flask/.git/objects/e0/e3d249a84f6dadccbd44c3a0bb8740b5b0c4bd'\n",
            "'/content/Virtual-Try-On-Flask/.git/objects/25' -> '/content/drive/MyDrive/Colab Notebooks/virtual_try_on_running/Virtual-Try-On-Flask/.git/objects/25'\n",
            "'/content/Virtual-Try-On-Flask/.git/objects/25/9546c4871c737060099648fddcdbd255583a92' -> '/content/drive/MyDrive/Colab Notebooks/virtual_try_on_running/Virtual-Try-On-Flask/.git/objects/25/9546c4871c737060099648fddcdbd255583a92'\n",
            "'/content/Virtual-Try-On-Flask/.git/objects/05' -> '/content/drive/MyDrive/Colab Notebooks/virtual_try_on_running/Virtual-Try-On-Flask/.git/objects/05'\n",
            "'/content/Virtual-Try-On-Flask/.git/objects/05/2c8852ed7b8f081013a91781f20af841fdaa11' -> '/content/drive/MyDrive/Colab Notebooks/virtual_try_on_running/Virtual-Try-On-Flask/.git/objects/05/2c8852ed7b8f081013a91781f20af841fdaa11'\n",
            "'/content/Virtual-Try-On-Flask/.git/objects/ab' -> '/content/drive/MyDrive/Colab Notebooks/virtual_try_on_running/Virtual-Try-On-Flask/.git/objects/ab'\n",
            "'/content/Virtual-Try-On-Flask/.git/objects/ab/9cccc88742e1542942ed09ef59f2461d73563e' -> '/content/drive/MyDrive/Colab Notebooks/virtual_try_on_running/Virtual-Try-On-Flask/.git/objects/ab/9cccc88742e1542942ed09ef59f2461d73563e'\n",
            "'/content/Virtual-Try-On-Flask/.git/objects/06' -> '/content/drive/MyDrive/Colab Notebooks/virtual_try_on_running/Virtual-Try-On-Flask/.git/objects/06'\n",
            "'/content/Virtual-Try-On-Flask/.git/objects/06/317a16e2b0c5194fcb1a4b884b45d469f9079b' -> '/content/drive/MyDrive/Colab Notebooks/virtual_try_on_running/Virtual-Try-On-Flask/.git/objects/06/317a16e2b0c5194fcb1a4b884b45d469f9079b'\n",
            "'/content/Virtual-Try-On-Flask/.git/objects/96' -> '/content/drive/MyDrive/Colab Notebooks/virtual_try_on_running/Virtual-Try-On-Flask/.git/objects/96'\n",
            "'/content/Virtual-Try-On-Flask/.git/objects/96/7b3e68793c3c75218a738a616a9ddf3189af40' -> '/content/drive/MyDrive/Colab Notebooks/virtual_try_on_running/Virtual-Try-On-Flask/.git/objects/96/7b3e68793c3c75218a738a616a9ddf3189af40'\n",
            "'/content/Virtual-Try-On-Flask/.git/objects/50' -> '/content/drive/MyDrive/Colab Notebooks/virtual_try_on_running/Virtual-Try-On-Flask/.git/objects/50'\n",
            "'/content/Virtual-Try-On-Flask/.git/objects/50/e039cd78774e42af0c2f3076c9d61b7556b5e7' -> '/content/drive/MyDrive/Colab Notebooks/virtual_try_on_running/Virtual-Try-On-Flask/.git/objects/50/e039cd78774e42af0c2f3076c9d61b7556b5e7'\n",
            "'/content/Virtual-Try-On-Flask/.git/objects/84' -> '/content/drive/MyDrive/Colab Notebooks/virtual_try_on_running/Virtual-Try-On-Flask/.git/objects/84'\n",
            "'/content/Virtual-Try-On-Flask/.git/objects/84/196ee71ec2be7ff3508e664266d08a360975fe' -> '/content/drive/MyDrive/Colab Notebooks/virtual_try_on_running/Virtual-Try-On-Flask/.git/objects/84/196ee71ec2be7ff3508e664266d08a360975fe'\n",
            "'/content/Virtual-Try-On-Flask/.git/objects/74' -> '/content/drive/MyDrive/Colab Notebooks/virtual_try_on_running/Virtual-Try-On-Flask/.git/objects/74'\n",
            "'/content/Virtual-Try-On-Flask/.git/objects/74/20346f6babe792124ef598f2daa5fb2bf413e0' -> '/content/drive/MyDrive/Colab Notebooks/virtual_try_on_running/Virtual-Try-On-Flask/.git/objects/74/20346f6babe792124ef598f2daa5fb2bf413e0'\n",
            "'/content/Virtual-Try-On-Flask/.git/objects/45' -> '/content/drive/MyDrive/Colab Notebooks/virtual_try_on_running/Virtual-Try-On-Flask/.git/objects/45'\n",
            "'/content/Virtual-Try-On-Flask/.git/objects/45/1ce8e36a8a7eab9886eff904f25a9691c28bd7' -> '/content/drive/MyDrive/Colab Notebooks/virtual_try_on_running/Virtual-Try-On-Flask/.git/objects/45/1ce8e36a8a7eab9886eff904f25a9691c28bd7'\n",
            "'/content/Virtual-Try-On-Flask/.git/objects/45/53f6578d8a1791b7beec7d461f8e0be2cc447d' -> '/content/drive/MyDrive/Colab Notebooks/virtual_try_on_running/Virtual-Try-On-Flask/.git/objects/45/53f6578d8a1791b7beec7d461f8e0be2cc447d'\n",
            "'/content/Virtual-Try-On-Flask/.git/objects/d4' -> '/content/drive/MyDrive/Colab Notebooks/virtual_try_on_running/Virtual-Try-On-Flask/.git/objects/d4'\n",
            "'/content/Virtual-Try-On-Flask/.git/objects/d4/967eb7215f24a64a95b097bfe4dbd31d72278a' -> '/content/drive/MyDrive/Colab Notebooks/virtual_try_on_running/Virtual-Try-On-Flask/.git/objects/d4/967eb7215f24a64a95b097bfe4dbd31d72278a'\n",
            "'/content/Virtual-Try-On-Flask/.git/objects/bd' -> '/content/drive/MyDrive/Colab Notebooks/virtual_try_on_running/Virtual-Try-On-Flask/.git/objects/bd'\n",
            "'/content/Virtual-Try-On-Flask/.git/objects/bd/39015141b20c6b3d8f0ff9a11d22cb6e9e93d9' -> '/content/drive/MyDrive/Colab Notebooks/virtual_try_on_running/Virtual-Try-On-Flask/.git/objects/bd/39015141b20c6b3d8f0ff9a11d22cb6e9e93d9'\n",
            "'/content/Virtual-Try-On-Flask/.git/objects/53' -> '/content/drive/MyDrive/Colab Notebooks/virtual_try_on_running/Virtual-Try-On-Flask/.git/objects/53'\n",
            "'/content/Virtual-Try-On-Flask/.git/objects/53/2736dbffae0ff96defff3087a4adfbeb0765b9' -> '/content/drive/MyDrive/Colab Notebooks/virtual_try_on_running/Virtual-Try-On-Flask/.git/objects/53/2736dbffae0ff96defff3087a4adfbeb0765b9'\n",
            "'/content/Virtual-Try-On-Flask/.git/objects/52' -> '/content/drive/MyDrive/Colab Notebooks/virtual_try_on_running/Virtual-Try-On-Flask/.git/objects/52'\n",
            "'/content/Virtual-Try-On-Flask/.git/objects/52/ad2bc9f4c37904fca7ddada62e70ee6c62cf0f' -> '/content/drive/MyDrive/Colab Notebooks/virtual_try_on_running/Virtual-Try-On-Flask/.git/objects/52/ad2bc9f4c37904fca7ddada62e70ee6c62cf0f'\n",
            "'/content/Virtual-Try-On-Flask/.git/objects/c5' -> '/content/drive/MyDrive/Colab Notebooks/virtual_try_on_running/Virtual-Try-On-Flask/.git/objects/c5'\n",
            "'/content/Virtual-Try-On-Flask/.git/objects/c5/8a382ad37684d2b993ef70d6746b8cc8d96018' -> '/content/drive/MyDrive/Colab Notebooks/virtual_try_on_running/Virtual-Try-On-Flask/.git/objects/c5/8a382ad37684d2b993ef70d6746b8cc8d96018'\n",
            "'/content/Virtual-Try-On-Flask/.git/objects/00' -> '/content/drive/MyDrive/Colab Notebooks/virtual_try_on_running/Virtual-Try-On-Flask/.git/objects/00'\n",
            "'/content/Virtual-Try-On-Flask/.git/objects/00/b06443ce4f30563dab2c820a73ba95e0735e30' -> '/content/drive/MyDrive/Colab Notebooks/virtual_try_on_running/Virtual-Try-On-Flask/.git/objects/00/b06443ce4f30563dab2c820a73ba95e0735e30'\n",
            "'/content/Virtual-Try-On-Flask/.git/objects/00/d4095e4e154ae086c8f830dd188fcdbfc06235' -> '/content/drive/MyDrive/Colab Notebooks/virtual_try_on_running/Virtual-Try-On-Flask/.git/objects/00/d4095e4e154ae086c8f830dd188fcdbfc06235'\n",
            "'/content/Virtual-Try-On-Flask/.git/objects/a6' -> '/content/drive/MyDrive/Colab Notebooks/virtual_try_on_running/Virtual-Try-On-Flask/.git/objects/a6'\n",
            "'/content/Virtual-Try-On-Flask/.git/objects/a6/12ad9813b006ce81d1ee438dd784da99a54007' -> '/content/drive/MyDrive/Colab Notebooks/virtual_try_on_running/Virtual-Try-On-Flask/.git/objects/a6/12ad9813b006ce81d1ee438dd784da99a54007'\n",
            "'/content/Virtual-Try-On-Flask/.git/objects/6d' -> '/content/drive/MyDrive/Colab Notebooks/virtual_try_on_running/Virtual-Try-On-Flask/.git/objects/6d'\n",
            "'/content/Virtual-Try-On-Flask/.git/objects/6d/b642ab7d982a11c71c1f017ca921710d3ba8bd' -> '/content/drive/MyDrive/Colab Notebooks/virtual_try_on_running/Virtual-Try-On-Flask/.git/objects/6d/b642ab7d982a11c71c1f017ca921710d3ba8bd'\n",
            "'/content/Virtual-Try-On-Flask/.git/objects/6d/a4265fe93f0bf71ef51c4250468f61ff882dc8' -> '/content/drive/MyDrive/Colab Notebooks/virtual_try_on_running/Virtual-Try-On-Flask/.git/objects/6d/a4265fe93f0bf71ef51c4250468f61ff882dc8'\n",
            "'/content/Virtual-Try-On-Flask/.git/objects/35' -> '/content/drive/MyDrive/Colab Notebooks/virtual_try_on_running/Virtual-Try-On-Flask/.git/objects/35'\n",
            "'/content/Virtual-Try-On-Flask/.git/objects/35/8a21b3c00ef15fb4ce0929db1249e6cb716ce1' -> '/content/drive/MyDrive/Colab Notebooks/virtual_try_on_running/Virtual-Try-On-Flask/.git/objects/35/8a21b3c00ef15fb4ce0929db1249e6cb716ce1'\n",
            "'/content/Virtual-Try-On-Flask/.git/objects/56' -> '/content/drive/MyDrive/Colab Notebooks/virtual_try_on_running/Virtual-Try-On-Flask/.git/objects/56'\n",
            "'/content/Virtual-Try-On-Flask/.git/objects/56/5a950f1a33ba83dcb9c5e6aa61bee765bf4faa' -> '/content/drive/MyDrive/Colab Notebooks/virtual_try_on_running/Virtual-Try-On-Flask/.git/objects/56/5a950f1a33ba83dcb9c5e6aa61bee765bf4faa'\n",
            "'/content/Virtual-Try-On-Flask/.git/objects/56/ec3bd1fcb1d971566e4301793dd6a24a6b5084' -> '/content/drive/MyDrive/Colab Notebooks/virtual_try_on_running/Virtual-Try-On-Flask/.git/objects/56/ec3bd1fcb1d971566e4301793dd6a24a6b5084'\n",
            "'/content/Virtual-Try-On-Flask/.git/objects/76' -> '/content/drive/MyDrive/Colab Notebooks/virtual_try_on_running/Virtual-Try-On-Flask/.git/objects/76'\n",
            "'/content/Virtual-Try-On-Flask/.git/objects/76/e3a7acdf77d82588c283a7651251cc068be4fe' -> '/content/drive/MyDrive/Colab Notebooks/virtual_try_on_running/Virtual-Try-On-Flask/.git/objects/76/e3a7acdf77d82588c283a7651251cc068be4fe'\n",
            "'/content/Virtual-Try-On-Flask/.git/objects/21' -> '/content/drive/MyDrive/Colab Notebooks/virtual_try_on_running/Virtual-Try-On-Flask/.git/objects/21'\n",
            "'/content/Virtual-Try-On-Flask/.git/objects/21/904e084d54c0adbb610728b77dd97454f0067a' -> '/content/drive/MyDrive/Colab Notebooks/virtual_try_on_running/Virtual-Try-On-Flask/.git/objects/21/904e084d54c0adbb610728b77dd97454f0067a'\n",
            "'/content/Virtual-Try-On-Flask/.git/objects/49' -> '/content/drive/MyDrive/Colab Notebooks/virtual_try_on_running/Virtual-Try-On-Flask/.git/objects/49'\n",
            "'/content/Virtual-Try-On-Flask/.git/objects/49/e8eb18fcfc8056cf26eef746ab62d6d1e4f404' -> '/content/drive/MyDrive/Colab Notebooks/virtual_try_on_running/Virtual-Try-On-Flask/.git/objects/49/e8eb18fcfc8056cf26eef746ab62d6d1e4f404'\n",
            "'/content/Virtual-Try-On-Flask/.git/objects/42' -> '/content/drive/MyDrive/Colab Notebooks/virtual_try_on_running/Virtual-Try-On-Flask/.git/objects/42'\n",
            "'/content/Virtual-Try-On-Flask/.git/objects/42/4406fdb60be90dba7f8c8daf5f465a7480c854' -> '/content/drive/MyDrive/Colab Notebooks/virtual_try_on_running/Virtual-Try-On-Flask/.git/objects/42/4406fdb60be90dba7f8c8daf5f465a7480c854'\n",
            "'/content/Virtual-Try-On-Flask/.git/objects/42/76ed4f14834470882439bb5a1b4d3907fd9b84' -> '/content/drive/MyDrive/Colab Notebooks/virtual_try_on_running/Virtual-Try-On-Flask/.git/objects/42/76ed4f14834470882439bb5a1b4d3907fd9b84'\n",
            "'/content/Virtual-Try-On-Flask/.git/objects/f4' -> '/content/drive/MyDrive/Colab Notebooks/virtual_try_on_running/Virtual-Try-On-Flask/.git/objects/f4'\n",
            "'/content/Virtual-Try-On-Flask/.git/objects/f4/fb44151dae5ba135128890c5aff12b2ff4fb05' -> '/content/drive/MyDrive/Colab Notebooks/virtual_try_on_running/Virtual-Try-On-Flask/.git/objects/f4/fb44151dae5ba135128890c5aff12b2ff4fb05'\n",
            "'/content/Virtual-Try-On-Flask/.git/objects/f4/956ca2efdd27ffce194e13d55fea308e46da0b' -> '/content/drive/MyDrive/Colab Notebooks/virtual_try_on_running/Virtual-Try-On-Flask/.git/objects/f4/956ca2efdd27ffce194e13d55fea308e46da0b'\n",
            "'/content/Virtual-Try-On-Flask/.git/objects/ce' -> '/content/drive/MyDrive/Colab Notebooks/virtual_try_on_running/Virtual-Try-On-Flask/.git/objects/ce'\n",
            "'/content/Virtual-Try-On-Flask/.git/objects/ce/212310bced6b0677ac7c483ea003e69abc1a45' -> '/content/drive/MyDrive/Colab Notebooks/virtual_try_on_running/Virtual-Try-On-Flask/.git/objects/ce/212310bced6b0677ac7c483ea003e69abc1a45'\n",
            "'/content/Virtual-Try-On-Flask/.git/objects/b9' -> '/content/drive/MyDrive/Colab Notebooks/virtual_try_on_running/Virtual-Try-On-Flask/.git/objects/b9'\n",
            "'/content/Virtual-Try-On-Flask/.git/objects/b9/876977008feb7970087e384d8c9cf0c83e0a78' -> '/content/drive/MyDrive/Colab Notebooks/virtual_try_on_running/Virtual-Try-On-Flask/.git/objects/b9/876977008feb7970087e384d8c9cf0c83e0a78'\n",
            "'/content/Virtual-Try-On-Flask/.git/objects/e6' -> '/content/drive/MyDrive/Colab Notebooks/virtual_try_on_running/Virtual-Try-On-Flask/.git/objects/e6'\n",
            "'/content/Virtual-Try-On-Flask/.git/objects/e6/9de29bb2d1d6434b8b29ae775ad8c2e48c5391' -> '/content/drive/MyDrive/Colab Notebooks/virtual_try_on_running/Virtual-Try-On-Flask/.git/objects/e6/9de29bb2d1d6434b8b29ae775ad8c2e48c5391'\n",
            "'/content/Virtual-Try-On-Flask/.git/objects/0c' -> '/content/drive/MyDrive/Colab Notebooks/virtual_try_on_running/Virtual-Try-On-Flask/.git/objects/0c'\n",
            "'/content/Virtual-Try-On-Flask/.git/objects/0c/8d778981d8f04bb5abb13d70cd059879cace6d' -> '/content/drive/MyDrive/Colab Notebooks/virtual_try_on_running/Virtual-Try-On-Flask/.git/objects/0c/8d778981d8f04bb5abb13d70cd059879cace6d'\n",
            "'/content/Virtual-Try-On-Flask/.git/objects/e2' -> '/content/drive/MyDrive/Colab Notebooks/virtual_try_on_running/Virtual-Try-On-Flask/.git/objects/e2'\n",
            "'/content/Virtual-Try-On-Flask/.git/objects/e2/03afe5ac462ac1c2105c33fc613333661d46c9' -> '/content/drive/MyDrive/Colab Notebooks/virtual_try_on_running/Virtual-Try-On-Flask/.git/objects/e2/03afe5ac462ac1c2105c33fc613333661d46c9'\n",
            "'/content/Virtual-Try-On-Flask/.git/objects/89' -> '/content/drive/MyDrive/Colab Notebooks/virtual_try_on_running/Virtual-Try-On-Flask/.git/objects/89'\n",
            "'/content/Virtual-Try-On-Flask/.git/objects/89/0f1f1da3a3267647a2338bb1e75e2ca5ba6c0d' -> '/content/drive/MyDrive/Colab Notebooks/virtual_try_on_running/Virtual-Try-On-Flask/.git/objects/89/0f1f1da3a3267647a2338bb1e75e2ca5ba6c0d'\n",
            "'/content/Virtual-Try-On-Flask/.git/objects/c8' -> '/content/drive/MyDrive/Colab Notebooks/virtual_try_on_running/Virtual-Try-On-Flask/.git/objects/c8'\n",
            "'/content/Virtual-Try-On-Flask/.git/objects/c8/5aaac5cee72115c7231a643cb1948dad2b85b2' -> '/content/drive/MyDrive/Colab Notebooks/virtual_try_on_running/Virtual-Try-On-Flask/.git/objects/c8/5aaac5cee72115c7231a643cb1948dad2b85b2'\n",
            "'/content/Virtual-Try-On-Flask/.git/objects/ae' -> '/content/drive/MyDrive/Colab Notebooks/virtual_try_on_running/Virtual-Try-On-Flask/.git/objects/ae'\n",
            "'/content/Virtual-Try-On-Flask/.git/objects/ae/529308b7fcd44afca35cf2ecef9ea9e897fa49' -> '/content/drive/MyDrive/Colab Notebooks/virtual_try_on_running/Virtual-Try-On-Flask/.git/objects/ae/529308b7fcd44afca35cf2ecef9ea9e897fa49'\n",
            "'/content/Virtual-Try-On-Flask/.git/objects/fe' -> '/content/drive/MyDrive/Colab Notebooks/virtual_try_on_running/Virtual-Try-On-Flask/.git/objects/fe'\n",
            "'/content/Virtual-Try-On-Flask/.git/objects/fe/28fcab5036f5483c18413ed430908eeb9b6b08' -> '/content/drive/MyDrive/Colab Notebooks/virtual_try_on_running/Virtual-Try-On-Flask/.git/objects/fe/28fcab5036f5483c18413ed430908eeb9b6b08'\n",
            "'/content/Virtual-Try-On-Flask/.git/objects/4a' -> '/content/drive/MyDrive/Colab Notebooks/virtual_try_on_running/Virtual-Try-On-Flask/.git/objects/4a'\n",
            "'/content/Virtual-Try-On-Flask/.git/objects/4a/87a97180164c7bbc8a933d1406420840f96f16' -> '/content/drive/MyDrive/Colab Notebooks/virtual_try_on_running/Virtual-Try-On-Flask/.git/objects/4a/87a97180164c7bbc8a933d1406420840f96f16'\n",
            "'/content/Virtual-Try-On-Flask/.git/objects/e4' -> '/content/drive/MyDrive/Colab Notebooks/virtual_try_on_running/Virtual-Try-On-Flask/.git/objects/e4'\n",
            "'/content/Virtual-Try-On-Flask/.git/objects/e4/90fd02e925f0db35238f287b18b76131ad3d5e' -> '/content/drive/MyDrive/Colab Notebooks/virtual_try_on_running/Virtual-Try-On-Flask/.git/objects/e4/90fd02e925f0db35238f287b18b76131ad3d5e'\n",
            "'/content/Virtual-Try-On-Flask/.git/objects/ea' -> '/content/drive/MyDrive/Colab Notebooks/virtual_try_on_running/Virtual-Try-On-Flask/.git/objects/ea'\n",
            "'/content/Virtual-Try-On-Flask/.git/objects/ea/c9842d74832e3d96b248a68518ab35e844979a' -> '/content/drive/MyDrive/Colab Notebooks/virtual_try_on_running/Virtual-Try-On-Flask/.git/objects/ea/c9842d74832e3d96b248a68518ab35e844979a'\n",
            "'/content/Virtual-Try-On-Flask/.git/objects/64' -> '/content/drive/MyDrive/Colab Notebooks/virtual_try_on_running/Virtual-Try-On-Flask/.git/objects/64'\n",
            "'/content/Virtual-Try-On-Flask/.git/objects/64/4d35e274fd64ddaf6d12af813e820c424176a9' -> '/content/drive/MyDrive/Colab Notebooks/virtual_try_on_running/Virtual-Try-On-Flask/.git/objects/64/4d35e274fd64ddaf6d12af813e820c424176a9'\n",
            "'/content/Virtual-Try-On-Flask/.git/objects/3b' -> '/content/drive/MyDrive/Colab Notebooks/virtual_try_on_running/Virtual-Try-On-Flask/.git/objects/3b'\n",
            "'/content/Virtual-Try-On-Flask/.git/objects/3b/529e8c1ce247a78bfe6deabb8bc181ec33da1f' -> '/content/drive/MyDrive/Colab Notebooks/virtual_try_on_running/Virtual-Try-On-Flask/.git/objects/3b/529e8c1ce247a78bfe6deabb8bc181ec33da1f'\n",
            "'/content/Virtual-Try-On-Flask/.git/objects/41' -> '/content/drive/MyDrive/Colab Notebooks/virtual_try_on_running/Virtual-Try-On-Flask/.git/objects/41'\n",
            "'/content/Virtual-Try-On-Flask/.git/objects/41/feb785abe0def29e8b1c64bbbf1082372ec673' -> '/content/drive/MyDrive/Colab Notebooks/virtual_try_on_running/Virtual-Try-On-Flask/.git/objects/41/feb785abe0def29e8b1c64bbbf1082372ec673'\n",
            "'/content/Virtual-Try-On-Flask/.git/objects/13' -> '/content/drive/MyDrive/Colab Notebooks/virtual_try_on_running/Virtual-Try-On-Flask/.git/objects/13'\n",
            "'/content/Virtual-Try-On-Flask/.git/objects/13/9461033c3159dd1ff2c293457e5cec0efca53b' -> '/content/drive/MyDrive/Colab Notebooks/virtual_try_on_running/Virtual-Try-On-Flask/.git/objects/13/9461033c3159dd1ff2c293457e5cec0efca53b'\n",
            "'/content/Virtual-Try-On-Flask/.git/objects/65' -> '/content/drive/MyDrive/Colab Notebooks/virtual_try_on_running/Virtual-Try-On-Flask/.git/objects/65'\n",
            "'/content/Virtual-Try-On-Flask/.git/objects/65/9ffa0415e30ced5105ad6f17cb8b1e432a88d0' -> '/content/drive/MyDrive/Colab Notebooks/virtual_try_on_running/Virtual-Try-On-Flask/.git/objects/65/9ffa0415e30ced5105ad6f17cb8b1e432a88d0'\n",
            "'/content/Virtual-Try-On-Flask/.git/objects/a4' -> '/content/drive/MyDrive/Colab Notebooks/virtual_try_on_running/Virtual-Try-On-Flask/.git/objects/a4'\n",
            "'/content/Virtual-Try-On-Flask/.git/objects/a4/6b6f80cfa6d5425c49ada53635b7d2ffb95bc9' -> '/content/drive/MyDrive/Colab Notebooks/virtual_try_on_running/Virtual-Try-On-Flask/.git/objects/a4/6b6f80cfa6d5425c49ada53635b7d2ffb95bc9'\n",
            "'/content/Virtual-Try-On-Flask/.git/objects/22' -> '/content/drive/MyDrive/Colab Notebooks/virtual_try_on_running/Virtual-Try-On-Flask/.git/objects/22'\n",
            "'/content/Virtual-Try-On-Flask/.git/objects/22/c0f8227f7075cbd3f880fb1d8c8a985bfbb577' -> '/content/drive/MyDrive/Colab Notebooks/virtual_try_on_running/Virtual-Try-On-Flask/.git/objects/22/c0f8227f7075cbd3f880fb1d8c8a985bfbb577'\n",
            "'/content/Virtual-Try-On-Flask/.git/objects/22/724f4935080c177a9af2260010b44104845d95' -> '/content/drive/MyDrive/Colab Notebooks/virtual_try_on_running/Virtual-Try-On-Flask/.git/objects/22/724f4935080c177a9af2260010b44104845d95'\n",
            "'/content/Virtual-Try-On-Flask/.git/objects/55' -> '/content/drive/MyDrive/Colab Notebooks/virtual_try_on_running/Virtual-Try-On-Flask/.git/objects/55'\n",
            "'/content/Virtual-Try-On-Flask/.git/objects/55/b7bd3a9ce114d69a42572835b4bde3ccc85432' -> '/content/drive/MyDrive/Colab Notebooks/virtual_try_on_running/Virtual-Try-On-Flask/.git/objects/55/b7bd3a9ce114d69a42572835b4bde3ccc85432'\n",
            "'/content/Virtual-Try-On-Flask/.git/objects/aa' -> '/content/drive/MyDrive/Colab Notebooks/virtual_try_on_running/Virtual-Try-On-Flask/.git/objects/aa'\n",
            "'/content/Virtual-Try-On-Flask/.git/objects/aa/e8dc056355a96df33f6ae1c949d215b0712ac8' -> '/content/drive/MyDrive/Colab Notebooks/virtual_try_on_running/Virtual-Try-On-Flask/.git/objects/aa/e8dc056355a96df33f6ae1c949d215b0712ac8'\n",
            "'/content/Virtual-Try-On-Flask/.git/objects/c2' -> '/content/drive/MyDrive/Colab Notebooks/virtual_try_on_running/Virtual-Try-On-Flask/.git/objects/c2'\n",
            "'/content/Virtual-Try-On-Flask/.git/objects/c2/e94792608dc423c4d68150e339e89a4d7ca447' -> '/content/drive/MyDrive/Colab Notebooks/virtual_try_on_running/Virtual-Try-On-Flask/.git/objects/c2/e94792608dc423c4d68150e339e89a4d7ca447'\n",
            "'/content/Virtual-Try-On-Flask/.git/objects/5c' -> '/content/drive/MyDrive/Colab Notebooks/virtual_try_on_running/Virtual-Try-On-Flask/.git/objects/5c'\n",
            "'/content/Virtual-Try-On-Flask/.git/objects/5c/081715b27b1025147d1dc5be7a29b0fc0ec151' -> '/content/drive/MyDrive/Colab Notebooks/virtual_try_on_running/Virtual-Try-On-Flask/.git/objects/5c/081715b27b1025147d1dc5be7a29b0fc0ec151'\n",
            "'/content/Virtual-Try-On-Flask/.git/objects/1b' -> '/content/drive/MyDrive/Colab Notebooks/virtual_try_on_running/Virtual-Try-On-Flask/.git/objects/1b'\n",
            "'/content/Virtual-Try-On-Flask/.git/objects/1b/14b3b62d551afd8765297700097e5bb4bc22c8' -> '/content/drive/MyDrive/Colab Notebooks/virtual_try_on_running/Virtual-Try-On-Flask/.git/objects/1b/14b3b62d551afd8765297700097e5bb4bc22c8'\n",
            "'/content/Virtual-Try-On-Flask/.git/objects/b1' -> '/content/drive/MyDrive/Colab Notebooks/virtual_try_on_running/Virtual-Try-On-Flask/.git/objects/b1'\n",
            "'/content/Virtual-Try-On-Flask/.git/objects/b1/8df9dd7420b01420b3e1cf36b6bce31046464b' -> '/content/drive/MyDrive/Colab Notebooks/virtual_try_on_running/Virtual-Try-On-Flask/.git/objects/b1/8df9dd7420b01420b3e1cf36b6bce31046464b'\n",
            "'/content/Virtual-Try-On-Flask/.git/objects/9d' -> '/content/drive/MyDrive/Colab Notebooks/virtual_try_on_running/Virtual-Try-On-Flask/.git/objects/9d'\n",
            "'/content/Virtual-Try-On-Flask/.git/objects/9d/667afddfc8a43194a01d0ea9ad7f6e754c0d0e' -> '/content/drive/MyDrive/Colab Notebooks/virtual_try_on_running/Virtual-Try-On-Flask/.git/objects/9d/667afddfc8a43194a01d0ea9ad7f6e754c0d0e'\n",
            "'/content/Virtual-Try-On-Flask/.git/objects/b3' -> '/content/drive/MyDrive/Colab Notebooks/virtual_try_on_running/Virtual-Try-On-Flask/.git/objects/b3'\n",
            "'/content/Virtual-Try-On-Flask/.git/objects/b3/33a13e0c91aec22b064fac67fc4aa3d318e5a2' -> '/content/drive/MyDrive/Colab Notebooks/virtual_try_on_running/Virtual-Try-On-Flask/.git/objects/b3/33a13e0c91aec22b064fac67fc4aa3d318e5a2'\n",
            "'/content/Virtual-Try-On-Flask/.git/objects/d1' -> '/content/drive/MyDrive/Colab Notebooks/virtual_try_on_running/Virtual-Try-On-Flask/.git/objects/d1'\n",
            "'/content/Virtual-Try-On-Flask/.git/objects/d1/267a01fd000995e26e929055bbf669e41afcd0' -> '/content/drive/MyDrive/Colab Notebooks/virtual_try_on_running/Virtual-Try-On-Flask/.git/objects/d1/267a01fd000995e26e929055bbf669e41afcd0'\n",
            "'/content/Virtual-Try-On-Flask/.git/objects/15' -> '/content/drive/MyDrive/Colab Notebooks/virtual_try_on_running/Virtual-Try-On-Flask/.git/objects/15'\n",
            "'/content/Virtual-Try-On-Flask/.git/objects/15/eeec763b65258e0c9942d41e4ab5535cfbbbd1' -> '/content/drive/MyDrive/Colab Notebooks/virtual_try_on_running/Virtual-Try-On-Flask/.git/objects/15/eeec763b65258e0c9942d41e4ab5535cfbbbd1'\n",
            "'/content/Virtual-Try-On-Flask/.git/objects/b5' -> '/content/drive/MyDrive/Colab Notebooks/virtual_try_on_running/Virtual-Try-On-Flask/.git/objects/b5'\n",
            "'/content/Virtual-Try-On-Flask/.git/objects/b5/4723cd00bebb00b1d58504aa213cbeb6c55479' -> '/content/drive/MyDrive/Colab Notebooks/virtual_try_on_running/Virtual-Try-On-Flask/.git/objects/b5/4723cd00bebb00b1d58504aa213cbeb6c55479'\n",
            "'/content/Virtual-Try-On-Flask/.git/objects/2f' -> '/content/drive/MyDrive/Colab Notebooks/virtual_try_on_running/Virtual-Try-On-Flask/.git/objects/2f'\n",
            "'/content/Virtual-Try-On-Flask/.git/objects/2f/79cbf0957ad81431ab411e2b659e08ed2866ed' -> '/content/drive/MyDrive/Colab Notebooks/virtual_try_on_running/Virtual-Try-On-Flask/.git/objects/2f/79cbf0957ad81431ab411e2b659e08ed2866ed'\n",
            "'/content/Virtual-Try-On-Flask/.git/objects/d3' -> '/content/drive/MyDrive/Colab Notebooks/virtual_try_on_running/Virtual-Try-On-Flask/.git/objects/d3'\n",
            "'/content/Virtual-Try-On-Flask/.git/objects/d3/a00c5c0f36d338e72f2a13567a73340b717a7a' -> '/content/drive/MyDrive/Colab Notebooks/virtual_try_on_running/Virtual-Try-On-Flask/.git/objects/d3/a00c5c0f36d338e72f2a13567a73340b717a7a'\n",
            "'/content/Virtual-Try-On-Flask/.git/objects/d5' -> '/content/drive/MyDrive/Colab Notebooks/virtual_try_on_running/Virtual-Try-On-Flask/.git/objects/d5'\n",
            "'/content/Virtual-Try-On-Flask/.git/objects/d5/38120444f8b2914f0fc3a750546d2932e59a61' -> '/content/drive/MyDrive/Colab Notebooks/virtual_try_on_running/Virtual-Try-On-Flask/.git/objects/d5/38120444f8b2914f0fc3a750546d2932e59a61'\n",
            "'/content/Virtual-Try-On-Flask/.git/objects/01' -> '/content/drive/MyDrive/Colab Notebooks/virtual_try_on_running/Virtual-Try-On-Flask/.git/objects/01'\n",
            "'/content/Virtual-Try-On-Flask/.git/objects/01/7fe7982b2a7a0c58caeb0536214d37ceec1887' -> '/content/drive/MyDrive/Colab Notebooks/virtual_try_on_running/Virtual-Try-On-Flask/.git/objects/01/7fe7982b2a7a0c58caeb0536214d37ceec1887'\n",
            "'/content/Virtual-Try-On-Flask/.git/objects/f7' -> '/content/drive/MyDrive/Colab Notebooks/virtual_try_on_running/Virtual-Try-On-Flask/.git/objects/f7'\n",
            "'/content/Virtual-Try-On-Flask/.git/objects/f7/bdd2d8804f2e70c49e6cfce87c201d30fc27bc' -> '/content/drive/MyDrive/Colab Notebooks/virtual_try_on_running/Virtual-Try-On-Flask/.git/objects/f7/bdd2d8804f2e70c49e6cfce87c201d30fc27bc'\n",
            "'/content/Virtual-Try-On-Flask/.git/config' -> '/content/drive/MyDrive/Colab Notebooks/virtual_try_on_running/Virtual-Try-On-Flask/.git/config'\n",
            "'/content/Virtual-Try-On-Flask/.git/packed-refs' -> '/content/drive/MyDrive/Colab Notebooks/virtual_try_on_running/Virtual-Try-On-Flask/.git/packed-refs'\n",
            "'/content/Virtual-Try-On-Flask/.git/logs' -> '/content/drive/MyDrive/Colab Notebooks/virtual_try_on_running/Virtual-Try-On-Flask/.git/logs'\n",
            "'/content/Virtual-Try-On-Flask/.git/logs/refs' -> '/content/drive/MyDrive/Colab Notebooks/virtual_try_on_running/Virtual-Try-On-Flask/.git/logs/refs'\n",
            "'/content/Virtual-Try-On-Flask/.git/logs/refs/remotes' -> '/content/drive/MyDrive/Colab Notebooks/virtual_try_on_running/Virtual-Try-On-Flask/.git/logs/refs/remotes'\n",
            "'/content/Virtual-Try-On-Flask/.git/logs/refs/remotes/origin' -> '/content/drive/MyDrive/Colab Notebooks/virtual_try_on_running/Virtual-Try-On-Flask/.git/logs/refs/remotes/origin'\n",
            "'/content/Virtual-Try-On-Flask/.git/logs/refs/remotes/origin/HEAD' -> '/content/drive/MyDrive/Colab Notebooks/virtual_try_on_running/Virtual-Try-On-Flask/.git/logs/refs/remotes/origin/HEAD'\n",
            "'/content/Virtual-Try-On-Flask/.git/logs/refs/heads' -> '/content/drive/MyDrive/Colab Notebooks/virtual_try_on_running/Virtual-Try-On-Flask/.git/logs/refs/heads'\n",
            "'/content/Virtual-Try-On-Flask/.git/logs/refs/heads/master' -> '/content/drive/MyDrive/Colab Notebooks/virtual_try_on_running/Virtual-Try-On-Flask/.git/logs/refs/heads/master'\n",
            "'/content/Virtual-Try-On-Flask/.git/logs/HEAD' -> '/content/drive/MyDrive/Colab Notebooks/virtual_try_on_running/Virtual-Try-On-Flask/.git/logs/HEAD'\n",
            "'/content/Virtual-Try-On-Flask/.git/HEAD' -> '/content/drive/MyDrive/Colab Notebooks/virtual_try_on_running/Virtual-Try-On-Flask/.git/HEAD'\n",
            "'/content/Virtual-Try-On-Flask/.gitignore' -> '/content/drive/MyDrive/Colab Notebooks/virtual_try_on_running/Virtual-Try-On-Flask/.gitignore'\n",
            "'/content/Virtual-Try-On-Flask/CPVTON.py' -> '/content/drive/MyDrive/Colab Notebooks/virtual_try_on_running/Virtual-Try-On-Flask/CPVTON.py'\n",
            "'/content/Virtual-Try-On-Flask/JPPNet.py' -> '/content/drive/MyDrive/Colab Notebooks/virtual_try_on_running/Virtual-Try-On-Flask/JPPNet.py'\n",
            "'/content/Virtual-Try-On-Flask/LICENSE' -> '/content/drive/MyDrive/Colab Notebooks/virtual_try_on_running/Virtual-Try-On-Flask/LICENSE'\n",
            "'/content/Virtual-Try-On-Flask/Model.py' -> '/content/drive/MyDrive/Colab Notebooks/virtual_try_on_running/Virtual-Try-On-Flask/Model.py'\n",
            "'/content/Virtual-Try-On-Flask/README.md' -> '/content/drive/MyDrive/Colab Notebooks/virtual_try_on_running/Virtual-Try-On-Flask/README.md'\n",
            "'/content/Virtual-Try-On-Flask/README_cn.md' -> '/content/drive/MyDrive/Colab Notebooks/virtual_try_on_running/Virtual-Try-On-Flask/README_cn.md'\n",
            "'/content/Virtual-Try-On-Flask/Template.ipynb' -> '/content/drive/MyDrive/Colab Notebooks/virtual_try_on_running/Virtual-Try-On-Flask/Template.ipynb'\n",
            "'/content/Virtual-Try-On-Flask/checkpoints' -> '/content/drive/MyDrive/Colab Notebooks/virtual_try_on_running/Virtual-Try-On-Flask/checkpoints'\n",
            "'/content/Virtual-Try-On-Flask/checkpoints/placeholder.empty' -> '/content/drive/MyDrive/Colab Notebooks/virtual_try_on_running/Virtual-Try-On-Flask/checkpoints/placeholder.empty'\n",
            "'/content/Virtual-Try-On-Flask/checkpoints/checkpoints.zip' -> '/content/drive/MyDrive/Colab Notebooks/virtual_try_on_running/Virtual-Try-On-Flask/checkpoints/checkpoints.zip'\n",
            "'/content/Virtual-Try-On-Flask/get.py' -> '/content/drive/MyDrive/Colab Notebooks/virtual_try_on_running/Virtual-Try-On-Flask/get.py'\n",
            "'/content/Virtual-Try-On-Flask/main.py' -> '/content/drive/MyDrive/Colab Notebooks/virtual_try_on_running/Virtual-Try-On-Flask/main.py'\n",
            "'/content/Virtual-Try-On-Flask/networks.py' -> '/content/drive/MyDrive/Colab Notebooks/virtual_try_on_running/Virtual-Try-On-Flask/networks.py'\n",
            "'/content/Virtual-Try-On-Flask/static' -> '/content/drive/MyDrive/Colab Notebooks/virtual_try_on_running/Virtual-Try-On-Flask/static'\n",
            "'/content/Virtual-Try-On-Flask/static/bootstrap.min.css' -> '/content/drive/MyDrive/Colab Notebooks/virtual_try_on_running/Virtual-Try-On-Flask/static/bootstrap.min.css'\n",
            "'/content/Virtual-Try-On-Flask/static/bootstrap.min.js' -> '/content/drive/MyDrive/Colab Notebooks/virtual_try_on_running/Virtual-Try-On-Flask/static/bootstrap.min.js'\n",
            "'/content/Virtual-Try-On-Flask/static/jquery.min.js' -> '/content/drive/MyDrive/Colab Notebooks/virtual_try_on_running/Virtual-Try-On-Flask/static/jquery.min.js'\n",
            "'/content/Virtual-Try-On-Flask/static/popper.min.js' -> '/content/drive/MyDrive/Colab Notebooks/virtual_try_on_running/Virtual-Try-On-Flask/static/popper.min.js'\n",
            "'/content/Virtual-Try-On-Flask/static/result' -> '/content/drive/MyDrive/Colab Notebooks/virtual_try_on_running/Virtual-Try-On-Flask/static/result'\n",
            "'/content/Virtual-Try-On-Flask/static/result/placeholder.empty' -> '/content/drive/MyDrive/Colab Notebooks/virtual_try_on_running/Virtual-Try-On-Flask/static/result/placeholder.empty'\n",
            "'/content/Virtual-Try-On-Flask/static/result/1636221671_test_shirt2.jpeg' -> '/content/drive/MyDrive/Colab Notebooks/virtual_try_on_running/Virtual-Try-On-Flask/static/result/1636221671_test_shirt2.jpeg'\n",
            "'/content/Virtual-Try-On-Flask/static/result/.ipynb_checkpoints' -> '/content/drive/MyDrive/Colab Notebooks/virtual_try_on_running/Virtual-Try-On-Flask/static/result/.ipynb_checkpoints'\n",
            "'/content/Virtual-Try-On-Flask/static/result/1636219949_test_shirt2.jpeg' -> '/content/drive/MyDrive/Colab Notebooks/virtual_try_on_running/Virtual-Try-On-Flask/static/result/1636219949_test_shirt2.jpeg'\n",
            "'/content/Virtual-Try-On-Flask/static/result/1636220578_test_shirt2.jpeg' -> '/content/drive/MyDrive/Colab Notebooks/virtual_try_on_running/Virtual-Try-On-Flask/static/result/1636220578_test_shirt2.jpeg'\n",
            "'/content/Virtual-Try-On-Flask/static/result/1636223119_test_shirt61.jpg' -> '/content/drive/MyDrive/Colab Notebooks/virtual_try_on_running/Virtual-Try-On-Flask/static/result/1636223119_test_shirt61.jpg'\n",
            "'/content/Virtual-Try-On-Flask/static/result/1636222179_test_shirt61.jpg' -> '/content/drive/MyDrive/Colab Notebooks/virtual_try_on_running/Virtual-Try-On-Flask/static/result/1636222179_test_shirt61.jpg'\n",
            "'/content/Virtual-Try-On-Flask/static/result/1636222567_test_shirt61.jpg' -> '/content/drive/MyDrive/Colab Notebooks/virtual_try_on_running/Virtual-Try-On-Flask/static/result/1636222567_test_shirt61.jpg'\n",
            "'/content/Virtual-Try-On-Flask/static/result/1636223388_test_shirt61.jpg' -> '/content/drive/MyDrive/Colab Notebooks/virtual_try_on_running/Virtual-Try-On-Flask/static/result/1636223388_test_shirt61.jpg'\n",
            "'/content/Virtual-Try-On-Flask/static/img' -> '/content/drive/MyDrive/Colab Notebooks/virtual_try_on_running/Virtual-Try-On-Flask/static/img'\n",
            "'/content/Virtual-Try-On-Flask/static/img/test_shirt2.jpeg' -> '/content/drive/MyDrive/Colab Notebooks/virtual_try_on_running/Virtual-Try-On-Flask/static/img/test_shirt2.jpeg'\n",
            "'/content/Virtual-Try-On-Flask/static/img/test_shirt31.jpg' -> '/content/drive/MyDrive/Colab Notebooks/virtual_try_on_running/Virtual-Try-On-Flask/static/img/test_shirt31.jpg'\n",
            "'/content/Virtual-Try-On-Flask/static/img/test_shirt51.jpg' -> '/content/drive/MyDrive/Colab Notebooks/virtual_try_on_running/Virtual-Try-On-Flask/static/img/test_shirt51.jpg'\n",
            "'/content/Virtual-Try-On-Flask/static/img/test_shirt61.jpg' -> '/content/drive/MyDrive/Colab Notebooks/virtual_try_on_running/Virtual-Try-On-Flask/static/img/test_shirt61.jpg'\n",
            "'/content/Virtual-Try-On-Flask/static/img/test_shirt81.jpg' -> '/content/drive/MyDrive/Colab Notebooks/virtual_try_on_running/Virtual-Try-On-Flask/static/img/test_shirt81.jpg'\n",
            "'/content/Virtual-Try-On-Flask/static/.ipynb_checkpoints' -> '/content/drive/MyDrive/Colab Notebooks/virtual_try_on_running/Virtual-Try-On-Flask/static/.ipynb_checkpoints'\n",
            "'/content/Virtual-Try-On-Flask/static/human' -> '/content/drive/MyDrive/Colab Notebooks/virtual_try_on_running/Virtual-Try-On-Flask/static/human'\n",
            "'/content/Virtual-Try-On-Flask/static/human/.ipynb_checkpoints' -> '/content/drive/MyDrive/Colab Notebooks/virtual_try_on_running/Virtual-Try-On-Flask/static/human/.ipynb_checkpoints'\n",
            "'/content/Virtual-Try-On-Flask/static/human/1636219949_test_shirt2.jpeg' -> '/content/drive/MyDrive/Colab Notebooks/virtual_try_on_running/Virtual-Try-On-Flask/static/human/1636219949_test_shirt2.jpeg'\n",
            "'/content/Virtual-Try-On-Flask/static/human/1636220578_test_shirt2.jpeg' -> '/content/drive/MyDrive/Colab Notebooks/virtual_try_on_running/Virtual-Try-On-Flask/static/human/1636220578_test_shirt2.jpeg'\n",
            "'/content/Virtual-Try-On-Flask/static/human/1636221671_test_shirt2.jpeg' -> '/content/drive/MyDrive/Colab Notebooks/virtual_try_on_running/Virtual-Try-On-Flask/static/human/1636221671_test_shirt2.jpeg'\n",
            "'/content/Virtual-Try-On-Flask/static/human/1636222179_test_shirt61.jpg' -> '/content/drive/MyDrive/Colab Notebooks/virtual_try_on_running/Virtual-Try-On-Flask/static/human/1636222179_test_shirt61.jpg'\n",
            "'/content/Virtual-Try-On-Flask/static/human/1636222567_test_shirt61.jpg' -> '/content/drive/MyDrive/Colab Notebooks/virtual_try_on_running/Virtual-Try-On-Flask/static/human/1636222567_test_shirt61.jpg'\n",
            "'/content/Virtual-Try-On-Flask/static/human/1636223119_test_shirt61.jpg' -> '/content/drive/MyDrive/Colab Notebooks/virtual_try_on_running/Virtual-Try-On-Flask/static/human/1636223119_test_shirt61.jpg'\n",
            "'/content/Virtual-Try-On-Flask/static/human/1636223388_test_shirt61.jpg' -> '/content/drive/MyDrive/Colab Notebooks/virtual_try_on_running/Virtual-Try-On-Flask/static/human/1636223388_test_shirt61.jpg'\n",
            "'/content/Virtual-Try-On-Flask/static/result1636213931_test_shirt2.jpeg' -> '/content/drive/MyDrive/Colab Notebooks/virtual_try_on_running/Virtual-Try-On-Flask/static/result1636213931_test_shirt2.jpeg'\n",
            "'/content/Virtual-Try-On-Flask/templates' -> '/content/drive/MyDrive/Colab Notebooks/virtual_try_on_running/Virtual-Try-On-Flask/templates'\n",
            "'/content/Virtual-Try-On-Flask/templates/login.html' -> '/content/drive/MyDrive/Colab Notebooks/virtual_try_on_running/Virtual-Try-On-Flask/templates/login.html'\n",
            "'/content/Virtual-Try-On-Flask/__pycache__' -> '/content/drive/MyDrive/Colab Notebooks/virtual_try_on_running/Virtual-Try-On-Flask/__pycache__'\n",
            "'/content/Virtual-Try-On-Flask/__pycache__/CPVTON.cpython-37.pyc' -> '/content/drive/MyDrive/Colab Notebooks/virtual_try_on_running/Virtual-Try-On-Flask/__pycache__/CPVTON.cpython-37.pyc'\n",
            "'/content/Virtual-Try-On-Flask/__pycache__/networks.cpython-37.pyc' -> '/content/drive/MyDrive/Colab Notebooks/virtual_try_on_running/Virtual-Try-On-Flask/__pycache__/networks.cpython-37.pyc'\n",
            "'/content/Virtual-Try-On-Flask/__pycache__/JPPNet.cpython-37.pyc' -> '/content/drive/MyDrive/Colab Notebooks/virtual_try_on_running/Virtual-Try-On-Flask/__pycache__/JPPNet.cpython-37.pyc'\n",
            "'/content/Virtual-Try-On-Flask/__pycache__/Model.cpython-37.pyc' -> '/content/drive/MyDrive/Colab Notebooks/virtual_try_on_running/Virtual-Try-On-Flask/__pycache__/Model.cpython-37.pyc'\n"
          ]
        }
      ]
    },
    {
      "cell_type": "code",
      "metadata": {
        "id": "jIuEqwJJR1DP"
      },
      "source": [
        "!rm -rf /content/Virtual-Try-On-Flask"
      ],
      "execution_count": null,
      "outputs": []
    },
    {
      "cell_type": "code",
      "metadata": {
        "id": "quY5B_08Xt_5"
      },
      "source": [
        ""
      ],
      "execution_count": null,
      "outputs": []
    }
  ]
}